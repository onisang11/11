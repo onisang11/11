{
 "cells": [
  {
   "cell_type": "code",
   "execution_count": 16,
   "metadata": {
    "collapsed": true
   },
   "outputs": [],
   "source": [
    "def eliminate_redundancy(a, b):\n",
    "    \"\"\" Takes two lists and crops them until their tail has only one element in common\n",
    "    \"\"\"\n",
    "    #only necessary for lists with more than two elements\n",
    "    if len(a) <= 1 or len(b) <= 1:\n",
    "        return a, b\n",
    "    \n",
    "    while a[-2] == b[-2]:\n",
    "        del a[-1]\n",
    "        del b[-1]\n",
    "    return a, b"
   ]
  },
  {
   "cell_type": "code",
   "execution_count": 18,
   "metadata": {},
   "outputs": [
    {
     "data": {
      "text/plain": [
       "([2, 3], [8, 7, 3])"
      ]
     },
     "execution_count": 18,
     "metadata": {},
     "output_type": "execute_result"
    }
   ],
   "source": [
    "eliminate_redundancy([2,3,4, 5], [8,7,3,4, 5])"
   ]
  },
  {
   "cell_type": "code",
   "execution_count": 2,
   "metadata": {
    "collapsed": true
   },
   "outputs": [],
   "source": [
    "import numpy as np\n",
    "import itertools\n",
    "from gurobipy import *"
   ]
  },
  {
   "cell_type": "code",
   "execution_count": 112,
   "metadata": {
    "collapsed": true
   },
   "outputs": [],
   "source": [
    "vertex = list('ABCDEFG')\n",
    "D = [-2] + [0]*5 + [2]"
   ]
  },
  {
   "cell_type": "raw",
   "metadata": {},
   "source": [
    "vertex_permutations = np.array(list(itertools.permutations(vertex,2)))\n",
    "edges = vertex_permutations[np.random.choice(range(len(vertex_permutations)),11, replace=False)]"
   ]
  },
  {
   "cell_type": "code",
   "execution_count": 113,
   "metadata": {
    "collapsed": true
   },
   "outputs": [],
   "source": [
    "edges = [['B', 'A'],['A', 'C'],['B', 'C'],['D', 'B'],['E', 'B'],['E', 'D'],['E', 'F'],\n",
    "         ['C', 'E'],['D', 'F'],['E', 'G'],['G', 'C']]"
   ]
  },
  {
   "cell_type": "code",
   "execution_count": 114,
   "metadata": {
    "collapsed": true
   },
   "outputs": [],
   "source": [
    "C = [1, 2, 2, 3, 4, 3, 4, 1, 3, 1, 2] #list(np.random.randint(1,5,11))\n",
    "U = [5, 4, 5, 4, 4, 4, 4, 4, 5, 4, 4] #list(np.random.randint(4,6,11))\n",
    "mu = [1., 1., 0.75, 1., 1.5, 1., 1.5, 0.9, 0.8, 1., 1.] #list(0.3 * np.random.randn(11) + 1)"
   ]
  },
  {
   "cell_type": "code",
   "execution_count": 115,
   "metadata": {},
   "outputs": [
    {
     "name": "stdout",
     "output_type": "stream",
     "text": [
      "\n",
      "Statistics for model Unnamed :\n",
      "  Linear constraint matrix    : 7 Constrs, 11 Vars, 22 NZs\n",
      "  Matrix coefficient range    : [ 0.75, 1.5 ]\n",
      "  Objective coefficient range : [ 1, 4 ]\n",
      "  Variable bound range        : [ 4, 5 ]\n",
      "  RHS coefficient range       : [ 2, 2 ]\n"
     ]
    }
   ],
   "source": [
    "case = Model()\n",
    "\n",
    "flows = {}\n",
    "demand_constr = {}\n",
    "\n",
    "for edge in range(11):\n",
    "    flows[edge] = case.addVar(obj=C[edge], lb=0., ub=U[edge], vtype=GRB.CONTINUOUS, \n",
    "                              name=\"edge_\" + str(edges[edge][0]) + \"_to_\" + str(edges[edge][1]))\n",
    "\n",
    "for v in range(7):\n",
    "    demand_constr[v] = case.addConstr(quicksum([mu[edge]*flows[edge] for edge in range(11) if edges[edge][1]==vertex[v]]) - \n",
    "                                     quicksum([flows[edge] for edge in range(11) if edges[edge][0]==vertex[v]]) == D[v],\n",
    "                                     name=\"demand_constraint_on_node_\" + str(v))\n",
    "    \n",
    "case.update()\n",
    "case.write(\"case.lp\")\n",
    "case.printStats()"
   ]
  },
  {
   "cell_type": "code",
   "execution_count": 116,
   "metadata": {},
   "outputs": [
    {
     "name": "stdout",
     "output_type": "stream",
     "text": [
      "Optimize a model with 7 rows, 11 columns and 22 nonzeros\n",
      "Coefficient statistics:\n",
      "  Matrix range     [8e-01, 2e+00]\n",
      "  Objective range  [1e+00, 4e+00]\n",
      "  Bounds range     [4e+00, 5e+00]\n",
      "  RHS range        [2e+00, 2e+00]\n",
      "Presolve removed 4 rows and 5 columns\n",
      "Presolve time: 0.03s\n",
      "Presolved: 3 rows, 6 columns, 12 nonzeros\n",
      "\n",
      "Iteration    Objective       Primal Inf.    Dual Inf.      Time\n",
      "       0    8.2190000e+00   1.124000e-01   0.000000e+00      0s\n",
      "       4    1.3714286e+01   0.000000e+00   0.000000e+00      0s\n",
      "\n",
      "Solved in 4 iterations and 0.06 seconds\n",
      "Optimal objective  1.371428571e+01\n",
      "Wall time: 71 ms\n"
     ]
    }
   ],
   "source": [
    "%%time\n",
    "case.optimize()"
   ]
  },
  {
   "cell_type": "code",
   "execution_count": null,
   "metadata": {
    "collapsed": true
   },
   "outputs": [],
   "source": []
  },
  {
   "cell_type": "code",
   "execution_count": 117,
   "metadata": {},
   "outputs": [
    {
     "data": {
      "text/plain": [
       "{0: 0.8571428571428568,\n",
       " 1: 2.8571428571428568,\n",
       " 2: 0.0,\n",
       " 3: 0.0,\n",
       " 4: 0.5714285714285712,\n",
       " 5: 0.0,\n",
       " 6: 0.0,\n",
       " 7: 2.8571428571428568,\n",
       " 8: 0.0,\n",
       " 9: 2.0,\n",
       " 10: 0.0}"
      ]
     },
     "execution_count": 117,
     "metadata": {},
     "output_type": "execute_result"
    }
   ],
   "source": [
    "flow_values = case.getAttr('X', flows)\n",
    "flow_values"
   ]
  },
  {
   "cell_type": "code",
   "execution_count": 125,
   "metadata": {},
   "outputs": [
    {
     "data": {
      "text/plain": [
       "13.714285714285712"
      ]
     },
     "execution_count": 125,
     "metadata": {},
     "output_type": "execute_result"
    }
   ],
   "source": []
  },
  {
   "cell_type": "code",
   "execution_count": 3,
   "metadata": {},
   "outputs": [
    {
     "name": "stdout",
     "output_type": "stream",
     "text": [
      "G = nx.DiGraph()\n"
     ]
    },
    {
     "ename": "NameError",
     "evalue": "name 'vertex' is not defined",
     "output_type": "error",
     "traceback": [
      "\u001b[1;31m---------------------------------------------------------------------------\u001b[0m",
      "\u001b[1;31mNameError\u001b[0m                                 Traceback (most recent call last)",
      "\u001b[1;32m<ipython-input-3-75c62ebd691d>\u001b[0m in \u001b[0;36m<module>\u001b[1;34m()\u001b[0m\n\u001b[0;32m      2\u001b[0m \u001b[0mprint\u001b[0m\u001b[1;33m(\u001b[0m\u001b[1;34m\"G = nx.DiGraph()\"\u001b[0m\u001b[1;33m)\u001b[0m\u001b[1;33m\u001b[0m\u001b[0m\n\u001b[0;32m      3\u001b[0m \u001b[1;32mfor\u001b[0m \u001b[0mv\u001b[0m \u001b[1;32min\u001b[0m \u001b[0mrange\u001b[0m\u001b[1;33m(\u001b[0m\u001b[1;36m7\u001b[0m\u001b[1;33m)\u001b[0m\u001b[1;33m:\u001b[0m\u001b[1;33m\u001b[0m\u001b[0m\n\u001b[1;32m----> 4\u001b[1;33m     \u001b[0mprint\u001b[0m\u001b[1;33m(\u001b[0m\u001b[1;34m\"G.add_node('\"\u001b[0m \u001b[1;33m+\u001b[0m \u001b[0mstr\u001b[0m\u001b[1;33m(\u001b[0m\u001b[0mvertex\u001b[0m\u001b[1;33m[\u001b[0m\u001b[0mv\u001b[0m\u001b[1;33m]\u001b[0m\u001b[1;33m)\u001b[0m \u001b[1;33m+\u001b[0m \u001b[1;34m\"', demand = \"\u001b[0m \u001b[1;33m+\u001b[0m \u001b[0mstr\u001b[0m\u001b[1;33m(\u001b[0m\u001b[0mD\u001b[0m\u001b[1;33m[\u001b[0m\u001b[0mv\u001b[0m\u001b[1;33m]\u001b[0m\u001b[1;33m)\u001b[0m \u001b[1;33m+\u001b[0m \u001b[1;34m\")\"\u001b[0m\u001b[1;33m)\u001b[0m\u001b[1;33m\u001b[0m\u001b[0m\n\u001b[0m\u001b[0;32m      5\u001b[0m \u001b[1;33m\u001b[0m\u001b[0m\n\u001b[0;32m      6\u001b[0m \u001b[1;32mfor\u001b[0m \u001b[0me\u001b[0m \u001b[1;32min\u001b[0m \u001b[0mrange\u001b[0m\u001b[1;33m(\u001b[0m\u001b[1;36m11\u001b[0m\u001b[1;33m)\u001b[0m\u001b[1;33m:\u001b[0m\u001b[1;33m\u001b[0m\u001b[0m\n",
      "\u001b[1;31mNameError\u001b[0m: name 'vertex' is not defined"
     ]
    }
   ],
   "source": [
    "#def print_testfile()\n",
    "print(\"G = nx.DiGraph()\")\n",
    "for v in range(7):\n",
    "    print(\"G.add_node('\" + str(vertex[v]) + \"', demand = \" + str(D[v]) + \")\")\n",
    "    \n",
    "for e in range(11):\n",
    "    print(\"G.add_edge('\" + str(edges[e][0]) + \"', '\" + str(edges[e][1]) + \n",
    "          \"', weight = \" + str(C[e]) + \", capacity = \" + str(U[e]) + \n",
    "          \", multiplier = \" + str(mu[e]) + \")\")\n",
    "\n",
    "soln = {}\n",
    "for v in range(7):\n",
    "    soln[vertex[v]] = {}\n",
    "    for e in range(11):\n",
    "        if edges[e][0] == vertex[v]:\n",
    "            soln[vertex[v]][edges[e][1]] = flow_values[e]\n",
    "print(\"flowCost, H = nx.network_simplex_generalized(G)\")\n",
    "print(\"soln = \" + str(soln))\n",
    "print(\"assert_equal(flowCost, \" + str(case.ObjVal) + \")\")\n",
    "print(\"assert_equal(H, soln)\")"
   ]
  },
  {
   "cell_type": "code",
   "execution_count": 127,
   "metadata": {},
   "outputs": [
    {
     "name": "stdout",
     "output_type": "stream",
     "text": [
      "{'A': {'C': 2.8571428571428568}, 'B': {'A': 0.8571428571428568, 'C': 0.0}, 'C': {'E': 2.8571428571428568}, 'D': {'B': 0.0, 'F': 0.0}, 'E': {'B': 0.5714285714285712, 'D': 0.0, 'F': 0.0, 'G': 2.0}, 'F': {}, 'G': {'C': 0.0}}\n",
      "assert_equal(flowCost, 13.714285714285712)\n",
      "assert_equal(H, soln)\n"
     ]
    }
   ],
   "source": []
  },
  {
   "cell_type": "markdown",
   "metadata": {},
   "source": [
    "# Probelma original"
   ]
  },
  {
   "cell_type": "code",
   "execution_count": 1,
   "metadata": {},
   "outputs": [],
   "source": [
    "from itertools import chain, islice, repeat\n",
    "from math import ceil, sqrt\n",
    "import networkx as nx\n",
    "from networkx.utils import not_implemented_for\n",
    "\n",
    "G = nx.DiGraph()\n",
    "G.add_node('a', demand = -5)\n",
    "G.add_node('d', demand = 5)\n",
    "G.add_edge('a', 'b', weight = 3, capacity = 4, multiplier = 1)\n",
    "G.add_edge('a', 'c', weight = 6, capacity = 10, multiplier = 1)\n",
    "G.add_edge('b', 'd', weight = 1, capacity = 9, multiplier = 1)\n",
    "G.add_edge('c', 'd', weight = 2, capacity = 5, multiplier = 1)\n",
    "\n",
    "#flowCost, H = network_simplex_generalized(G)"
   ]
  },
  {
   "cell_type": "code",
   "execution_count": 2,
   "metadata": {
    "collapsed": true
   },
   "outputs": [],
   "source": [
    "#def network_simplex_generalized(G, \n",
    "demand='demand'\n",
    "capacity='capacity'\n",
    "weight='weight'\n",
    "multiplier='multiplier'\n",
    "###########################################################################\n",
    "# Problem essentials extraction and sanity check\n",
    "###########################################################################\n",
    "\n",
    "if len(G) == 0:\n",
    "    raise nx.NetworkXError('graph has no nodes')\n",
    "\n",
    "# Number all nodes and edges and hereafter reference them using ONLY their\n",
    "# numbers\n",
    "\n",
    "N = list(G)                                # nodes\n",
    "I = {u: i for i, u in enumerate(N)}        # node indices\n",
    "D = [G.node[u].get(demand, 0) for u in N]  # node demands"
   ]
  },
  {
   "cell_type": "code",
   "execution_count": 3,
   "metadata": {
    "collapsed": true
   },
   "outputs": [],
   "source": [
    "inf = float('inf')\n",
    "for p, b in zip(N, D):\n",
    "    if abs(b) == inf:\n",
    "        raise nx.NetworkXError('node %r has infinite demand' % (p,))\n",
    "\n",
    "multigraph = G.is_multigraph()\n",
    "S = []  # edge sources\n",
    "T = []  # edge targets\n",
    "if multigraph:\n",
    "    K = []  # edge keys\n",
    "E = {}  # edge indices\n",
    "U = []  # edge capacities\n",
    "C = []  # edge weights\n",
    "Mu = []  # edge multipliers\n",
    "\n",
    "if not multigraph:\n",
    "    edges = G.edges(data=True)\n",
    "else:\n",
    "    edges = G.edges(data=True, keys=True)\n",
    "edges = (e for e in edges\n",
    "         if e[0] != e[1] and e[-1].get(capacity, inf) != 0)\n",
    "for i, e in enumerate(edges):\n",
    "    S.append(I[e[0]])\n",
    "    T.append(I[e[1]])\n",
    "    if multigraph:\n",
    "        K.append(e[2])\n",
    "    E[e[:-1]] = i\n",
    "    U.append(e[-1].get(capacity, inf))\n",
    "    C.append(e[-1].get(weight, 0))\n",
    "    Mu.append(e[-1].get(multiplier, 1))\n",
    "\n",
    "for e, c, mu in zip(E, C, Mu):\n",
    "    if abs(mu) == inf or mu <= 0:\n",
    "        raise nx.NetworkXError('edge %r has invalid multiplier' % (e,))\n",
    "    if abs(c) == inf:\n",
    "        raise nx.NetworkXError('edge %r has infinite weight' % (e,))\n",
    "#if not multigraph:\n",
    "#    edges = nx.selfloop_edges(G, data=True)\n",
    "#else:\n",
    "#    edges = nx.selfloop_edges(G, data=True, keys=True)\n",
    "for e in edges:\n",
    "    if abs(e[-1].get(weight, 0)) == inf:\n",
    "        raise nx.NetworkXError('edge %r has infinite weight' % (e[:-1],))"
   ]
  },
  {
   "cell_type": "code",
   "execution_count": 4,
   "metadata": {
    "collapsed": true
   },
   "outputs": [],
   "source": [
    "###########################################################################\n",
    "# Quick infeasibility detection\n",
    "###########################################################################\n",
    "\n",
    "for e, u in zip(E, U):\n",
    "    if u < 0:\n",
    "        raise nx.NetworkXUnfeasible('edge %r has negative capacity' % (e,))\n",
    "#if not multigraph:\n",
    "#    edges = nx.selfloop_edges(G, data=True)\n",
    "#else:\n",
    "#    edges = nx.selfloop_edges(G, data=True, keys=True)\n",
    "for e in edges:\n",
    "    if e[-1].get(capacity, inf) < 0:\n",
    "        raise nx.NetworkXUnfeasible(\n",
    "            'edge %r has negative capacity' % (e[:-1],))"
   ]
  },
  {
   "cell_type": "code",
   "execution_count": 5,
   "metadata": {},
   "outputs": [],
   "source": [
    "###########################################################################\n",
    "# Initialization\n",
    "###########################################################################\n",
    "\n",
    "# Add a dummy node -1 and connect all existing nodes to it with infinite-\n",
    "# capacity dummy edges. Node -1 will serve as the root of the\n",
    "# spanning tree of the network simplex method. The new edges will used to\n",
    "# trivially satisfy the node demands and create an initial strongly\n",
    "# feasible spanning tree.\n",
    "n = len(N)  # number of nodes\n",
    "for p, d in enumerate(D):\n",
    "    if d > 0:  # Must be greater-than here. Zero-demand nodes must have\n",
    "               # edges pointing towards the root to ensure strong\n",
    "               # feasibility.\n",
    "        S.append(-1)\n",
    "        T.append(p)\n",
    "    else:\n",
    "        S.append(p)\n",
    "        T.append(-1)\n",
    "\n",
    "# TODO: check if Mu positive values should multiply here\n",
    "mu_product = 1\n",
    "for i in [mu for mu in Mu if mu > 1]:\n",
    "    mu_product *= i\n",
    "\n",
    "faux_inf = 3 * mu_product * max(chain([sum(u for u in U if u < inf),\n",
    "                          sum(abs(c) for c in C)],\n",
    "                         (abs(d) for d in D))) or 1\n",
    "C.extend(repeat(faux_inf, n))\n",
    "U.extend(repeat(faux_inf, n))\n",
    "\n",
    "# Construct the initial spanning tree.\n",
    "e = len(E)                                           # number of edges\n",
    "x = list(chain(repeat(0, e), (abs(d) for d in D)))   # edge flows\n",
    "pi = [faux_inf if d <= 0 else -faux_inf for d in D]  # node potentials\n",
    "parent = list(chain(repeat(-1, n), [None]))  # parent nodes\n",
    "edge = list(range(e, e + n))                 # edges to parents\n",
    "size = list(chain(repeat(1, n), [n + 1]))    # subtree sizes\n",
    "next = list(chain(range(1, n), [-1, 0]))     # next nodes in depth-first thread\n",
    "prev = list(range(-1, n))                    # previous nodes in depth-first thread\n",
    "last = list(chain(range(n), [n - 1]))        # last descendants in depth-first thread"
   ]
  },
  {
   "cell_type": "code",
   "execution_count": 6,
   "metadata": {},
   "outputs": [
    {
     "data": {
      "text/plain": [
       "[4, 5, 6, 7]"
      ]
     },
     "execution_count": 6,
     "metadata": {},
     "output_type": "execute_result"
    }
   ],
   "source": [
    "edge"
   ]
  },
  {
   "cell_type": "code",
   "execution_count": 7,
   "metadata": {
    "collapsed": true
   },
   "outputs": [],
   "source": [
    "###########################################################################\n",
    "# Pivot loop\n",
    "###########################################################################\n",
    "\n",
    "def reduced_cost(i):\n",
    "    \"\"\"Return the reduced cost of an edge i.\n",
    "    \"\"\"\n",
    "    c = C[i] - pi[S[i]] + pi[T[i]]\n",
    "    return c if x[i] == 0 else -c\n",
    "\n",
    "def find_entering_edges():\n",
    "    \"\"\"Yield entering edges until none can be found.\n",
    "    \"\"\"\n",
    "    if e == 0:\n",
    "        return\n",
    "\n",
    "    # Entering edges are found by combining Dantzig's rule and Bland's\n",
    "    # rule. The edges are cyclically grouped into blocks of size B. Within\n",
    "    # each block, Dantzig's rule is applied to find an entering edge. The\n",
    "    # blocks to search is determined following Bland's rule.\n",
    "    B = int(ceil(sqrt(e)))  # pivot block size\n",
    "    M = (e + B - 1) // B    # number of blocks needed to cover all edges\n",
    "    m = 0                   # number of consecutive blocks without eligible\n",
    "                            # entering edges\n",
    "    f = 0                   # first edge in block\n",
    "    while m < M:\n",
    "        # Determine the next block of edges.\n",
    "        l = f + B\n",
    "        if l <= e:\n",
    "            edges = range(f, l)\n",
    "        else:\n",
    "            l -= e\n",
    "            edges = chain(range(f, e), range(l))\n",
    "        f = l\n",
    "        # Find the first edge with the lowest reduced cost.\n",
    "        i = min(edges, key=reduced_cost)\n",
    "        c = reduced_cost(i)\n",
    "        if c >= 0:\n",
    "            # No entering edge found in the current block.\n",
    "            m += 1\n",
    "        else:\n",
    "            # Entering edge found.\n",
    "            if x[i] == 0:\n",
    "                p = S[i]\n",
    "                q = T[i]\n",
    "            else:\n",
    "                p = T[i]\n",
    "                q = S[i]\n",
    "            yield i, p, q\n",
    "            m = 0\n",
    "    # All edges have nonnegative reduced costs. The current flow is\n",
    "    # optimal.\n",
    "\n",
    "def find_apex(p, q):\n",
    "    \"\"\"Find the lowest common ancestor of nodes p and q in the spanning\n",
    "    tree.\n",
    "    \"\"\"\n",
    "    size_p = size[p]\n",
    "    size_q = size[q]\n",
    "    while True:\n",
    "        while size_p < size_q:\n",
    "            p = parent[p]\n",
    "            size_p = size[p]\n",
    "        while size_p > size_q:\n",
    "            q = parent[q]\n",
    "            size_q = size[q]\n",
    "        if size_p == size_q:\n",
    "            if p != q:\n",
    "                p = parent[p]\n",
    "                size_p = size[p]\n",
    "                q = parent[q]\n",
    "                size_q = size[q]\n",
    "            else:\n",
    "                return p\n",
    "\n",
    "def trace_path(p, w):\n",
    "    \"\"\"Return the nodes and edges on the path from node p to its ancestor\n",
    "    w.\n",
    "    \"\"\"\n",
    "    Wn = [p]\n",
    "    We = []\n",
    "    while p != w:\n",
    "        We.append(edge[p])\n",
    "        p = parent[p]\n",
    "        Wn.append(p)\n",
    "    return Wn, We\n",
    "\n",
    "def find_cycle(i, p, q):\n",
    "    \"\"\"Return the nodes and edges on the cycle containing edge i == (p, q)\n",
    "    when the latter is added to the spanning tree.\n",
    "\n",
    "    The cycle is oriented in the direction from p to q.\n",
    "    \"\"\"\n",
    "    w = find_apex(p, q)\n",
    "    Wn, We = trace_path(p, w)\n",
    "    Wn.reverse()\n",
    "    We.reverse()\n",
    "    We.append(i)\n",
    "    WnR, WeR = trace_path(q, w)\n",
    "    del WnR[-1]\n",
    "    Wn += WnR\n",
    "    We += WeR\n",
    "    return Wn, We\n",
    "\n",
    "\n",
    "def residual_capacity(i, p):\n",
    "    \"\"\"Return the residual capacity of an edge i in the direction away\n",
    "    from its endpoint p.\n",
    "    \"\"\"\n",
    "    return U[i] - x[i] if S[i] == p else x[i]\n",
    "\n",
    "def find_leaving_edge(Wn, We):\n",
    "    \"\"\"Return the leaving edge in a cycle represented by Wn and We.\n",
    "    \"\"\"\n",
    "    j, s = min(zip(reversed(We), reversed(Wn)),\n",
    "               key=lambda i_p: residual_capacity(*i_p))\n",
    "    t = T[j] if S[j] == s else S[j]\n",
    "    return j, s, t\n",
    "\n",
    "def augment_flow(Wn, We, f):\n",
    "    \"\"\"Augment f units of flow along a cycle represented by Wn and We.\n",
    "    \"\"\"\n",
    "    for i, p in zip(We, Wn):\n",
    "        if S[i] == p:\n",
    "            x[i] += f\n",
    "        else:\n",
    "            x[i] -= f\n",
    "\n",
    "def trace_subtree(p):\n",
    "    \"\"\"Yield the nodes in the subtree rooted at a node p.\n",
    "    \"\"\"\n",
    "    yield p\n",
    "    l = last[p]\n",
    "    while p != l:\n",
    "        p = next[p]\n",
    "        yield p\n",
    "\n",
    "def remove_edge(s, t):\n",
    "    \"\"\"Remove an edge (s, t) where parent[t] == s from the spanning tree.\n",
    "    \"\"\"\n",
    "    size_t = size[t]\n",
    "    prev_t = prev[t]\n",
    "    last_t = last[t]\n",
    "    next_last_t = next[last_t]\n",
    "    # Remove (s, t).\n",
    "    parent[t] = None\n",
    "    edge[t] = None\n",
    "    # Remove the subtree rooted at t from the depth-first thread.\n",
    "    next[prev_t] = next_last_t\n",
    "    prev[next_last_t] = prev_t\n",
    "    next[last_t] = t\n",
    "    prev[t] = last_t\n",
    "    # Update the subtree sizes and last descendants of the (old) acenstors\n",
    "    # of t.\n",
    "    while s is not None:\n",
    "        size[s] -= size_t\n",
    "        if last[s] == last_t:\n",
    "            last[s] = prev_t\n",
    "        s = parent[s]\n",
    "\n",
    "def make_root(q):\n",
    "    \"\"\"Make a node q the root of its containing subtree.\n",
    "    \"\"\"\n",
    "    ancestors = []\n",
    "    while q is not None:\n",
    "        ancestors.append(q)\n",
    "        q = parent[q]\n",
    "    ancestors.reverse()\n",
    "    for p, q in zip(ancestors, islice(ancestors, 1, None)):\n",
    "        size_p = size[p]\n",
    "        last_p = last[p]\n",
    "        prev_q = prev[q]\n",
    "        last_q = last[q]\n",
    "        next_last_q = next[last_q]\n",
    "        # Make p a child of q.\n",
    "        parent[p] = q\n",
    "        parent[q] = None\n",
    "        edge[p] = edge[q]\n",
    "        edge[q] = None\n",
    "        size[p] = size_p - size[q]\n",
    "        size[q] = size_p\n",
    "        # Remove the subtree rooted at q from the depth-first thread.\n",
    "        next[prev_q] = next_last_q\n",
    "        prev[next_last_q] = prev_q\n",
    "        next[last_q] = q\n",
    "        prev[q] = last_q\n",
    "        if last_p == last_q:\n",
    "            last[p] = prev_q\n",
    "            last_p = prev_q\n",
    "        # Add the remaining parts of the subtree rooted at p as a subtree\n",
    "        # of q in the depth-first thread.\n",
    "        prev[p] = last_q\n",
    "        next[last_q] = p\n",
    "        next[last_p] = q\n",
    "        prev[q] = last_p\n",
    "        last[q] = last_p\n",
    "\n",
    "def add_edge(i, p, q):\n",
    "    \"\"\"Add an edge (p, q) to the spanning tree where q is the root of a\n",
    "    subtree.\n",
    "    \"\"\"\n",
    "    last_p = last[p]\n",
    "    next_last_p = next[last_p]\n",
    "    size_q = size[q]\n",
    "    last_q = last[q]\n",
    "    # Make q a child of p.\n",
    "    parent[q] = p\n",
    "    edge[q] = i\n",
    "    # Insert the subtree rooted at q into the depth-first thread.\n",
    "    next[last_p] = q\n",
    "    prev[q] = last_p\n",
    "    prev[next_last_p] = last_q\n",
    "    next[last_q] = next_last_p\n",
    "    # Update the subtree sizes and last descendants of the (new) ancestors\n",
    "    # of q.\n",
    "    while p is not None:\n",
    "        size[p] += size_q\n",
    "        if last[p] == last_p:\n",
    "            last[p] = last_q\n",
    "        p = parent[p]\n",
    "\n",
    "def update_potentials(i, p, q):\n",
    "    \"\"\"Update the potentials of the nodes in the subtree rooted at a node\n",
    "    q connected to its parent p by an edge i.\n",
    "    \"\"\"\n",
    "    if q == T[i]:\n",
    "        d = pi[p] - C[i] - pi[q]\n",
    "    else:\n",
    "        d = pi[p] + C[i] - pi[q]\n",
    "    for q in trace_subtree(q):\n",
    "        pi[q] += d\n",
    "        "
   ]
  },
  {
   "cell_type": "code",
   "execution_count": 10,
   "metadata": {},
   "outputs": [
    {
     "data": {
      "text/plain": [
       "-1"
      ]
     },
     "execution_count": 10,
     "metadata": {},
     "output_type": "execute_result"
    }
   ],
   "source": [
    "find_apex(0,3)"
   ]
  },
  {
   "cell_type": "code",
   "execution_count": 99,
   "metadata": {},
   "outputs": [
    {
     "name": "stdout",
     "output_type": "stream",
     "text": [
      "# Tree Variables #####################################\n",
      "# number of edges 4\n",
      "# edge flows [0, 0, 0, 0, 5, 5, 0, 0]\n",
      "# node potentials [84, -84, 84, 84]\n",
      "# parent nodes [-1, -1, -1, -1, None]\n",
      "# edges to parents [4, 5, 6, 7]\n",
      "# subtree sizes [1, 1, 1, 1, 5]\n",
      "# next nodes in dfs thread [1, 2, 3, -1, 0]\n",
      "# previous nodes in dfs thread [-1, 0, 1, 2, 3]\n",
      "# last descendants in dfs thread [0, 1, 2, 3, 3]\n",
      "# Data structures #########################################\n",
      "nodes:  ['a', 'd', 'b', 'c']\n",
      "node indices:  {'a': 0, 'd': 1, 'b': 2, 'c': 3}\n",
      "node demands:  [-5, 5, 0, 0]\n",
      "edge sources:  [0, 0, 2, 3, 0, -1, 2, 3]\n",
      "edge targets:  [2, 3, 1, 1, -1, 1, -1, -1]\n",
      "edge indices:  {('a', 'b'): 0, ('a', 'c'): 1, ('b', 'd'): 2, ('c', 'd'): 3}\n",
      "edge capacities:  [4, 10, 9, 5, 84, 84, 84, 84]\n",
      "edge weights:  [3, 6, 1, 2, 84, 84, 84, 84]\n",
      "edge multipliers:  [1, 1, 1, 1]\n",
      "# Pivot Loop #########################################\n",
      "entering edge i, p, q 2 2 1\n",
      "cycle found Nodes/edges [-1, 2, 1] [6, 2, 5]\n",
      "leaving edge 6 -1 2\n",
      "new flows [0, 0, 0, 0, 5, 5, 0, 0]\n",
      "######################################################\n",
      "# Pivot Loop #########################################\n",
      "entering edge i, p, q 0 0 2\n",
      "cycle found Nodes/edges [-1, 0, 2, 1] [4, 0, 2, 5]\n",
      "leaving edge 0 0 2\n",
      "new flows [4, 0, 4, 0, 1, 1, 0, 0]\n",
      "######################################################\n",
      "# Pivot Loop #########################################\n",
      "entering edge i, p, q 3 3 1\n",
      "cycle found Nodes/edges [-1, 3, 1] [7, 3, 5]\n",
      "leaving edge 7 -1 3\n",
      "new flows [4, 0, 4, 0, 1, 1, 0, 0]\n",
      "######################################################\n",
      "# Pivot Loop #########################################\n",
      "entering edge i, p, q 1 0 3\n",
      "cycle found Nodes/edges [-1, 0, 3, 1] [4, 1, 3, 5]\n",
      "leaving edge 5 1 -1\n",
      "new flows [4, 1, 4, 1, 0, 0, 0, 0]\n",
      "######################################################\n"
     ]
    }
   ],
   "source": [
    "print('# Tree Variables #####################################')\n",
    "print('# number of edges', e)\n",
    "print('# edge flows', x)\n",
    "print('# node potentials', pi)\n",
    "print('# parent nodes', parent)\n",
    "print('# edges to parents', edge)\n",
    "print('# subtree sizes', size)\n",
    "print('# next nodes in dfs thread', next)\n",
    "print('# previous nodes in dfs thread', prev)\n",
    "print('# last descendants in dfs thread', last)\n",
    "\n",
    "print('# Data structures #########################################')\n",
    "print('nodes: ', N)\n",
    "print('node indices: ', I)\n",
    "print('node demands: ', D)\n",
    "print('edge sources: ', S)\n",
    "print('edge targets: ', T)\n",
    "if multigraph: \n",
    "    print('edge keys: ', K)\n",
    "print('edge indices: ', E)\n",
    "print('edge capacities: ', U)\n",
    "print('edge weights: ', C)\n",
    "print('edge multipliers: ', Mu)\n",
    "\n",
    "# Pivot loop\n",
    "for i, p, q in find_entering_edges():\n",
    "    print('# Pivot Loop #########################################')\n",
    "    print(\"entering edge i, p, q\", i, p, q)\n",
    "    Wn, We = find_cycle(i, p, q)\n",
    "    print(\"cycle found Nodes/edges\",Wn, We)\n",
    "    j, s, t = find_leaving_edge(Wn, We)\n",
    "    print(\"leaving edge\",j, s, t)\n",
    "    augment_flow(Wn, We, residual_capacity(j, s))\n",
    "    print(\"new flows\", x)\n",
    "    if i != j:  # Do nothing more if the entering edge is the same as the\n",
    "                # the leaving edge.\n",
    "        if parent[t] != s:\n",
    "            # Ensure that s is the parent of t.\n",
    "            s, t = t, s\n",
    "        if We.index(i) > We.index(j):\n",
    "            # Ensure that q is in the subtree rooted at t.\n",
    "            p, q = q, p\n",
    "        remove_edge(s, t)\n",
    "        make_root(q)\n",
    "        add_edge(i, p, q)\n",
    "        update_potentials(i, p, q)\n",
    "        print(\"node potentials\", pi)\n",
    "    print('######################################################')"
   ]
  },
  {
   "cell_type": "code",
   "execution_count": null,
   "metadata": {
    "collapsed": true
   },
   "outputs": [],
   "source": [
    "###########################################################################\n",
    "# Infeasibility and unboundedness detection\n",
    "###########################################################################\n",
    "\n",
    "if any(x[i] != 0 for i in range(-n, 0)):\n",
    "    raise nx.NetworkXUnfeasible('no flow satisfies all node demands')\n",
    "\n",
    "if (any(x[i] * 2 >= faux_inf for i in range(e)) or\n",
    "    any(e[-1].get(capacity, inf) == inf and e[-1].get(weight, 0) < 0\n",
    "        for e in nx.selfloop_edges(G, data=True))):\n",
    "    raise nx.NetworkXUnbounded(\n",
    "        'negative cycle with infinite capacity found')"
   ]
  },
  {
   "cell_type": "code",
   "execution_count": 64,
   "metadata": {
    "collapsed": true
   },
   "outputs": [],
   "source": [
    "###########################################################################\n",
    "# Flow cost calculation and flow dict construction\n",
    "###########################################################################\n",
    "\n",
    "del x[e:]\n",
    "flow_cost = sum(c * x for c, x in zip(C, x))\n",
    "flow_dict = {n: {} for n in N}\n",
    "\n",
    "def add_entry(e):\n",
    "    \"\"\"Add a flow dict entry.\n",
    "    \"\"\"\n",
    "    d = flow_dict[e[0]]\n",
    "    for k in e[1:-2]:\n",
    "        try:\n",
    "            d = d[k]\n",
    "        except KeyError:\n",
    "            t = {}\n",
    "            d[k] = t\n",
    "            d = t\n",
    "    d[e[-2]] = e[-1]\n",
    "\n",
    "S = (N[s] for s in S)  # Use original nodes.\n",
    "T = (N[t] for t in T)  # Use original nodes.\n",
    "if not multigraph:\n",
    "    for e in zip(S, T, x):\n",
    "        add_entry(e)\n",
    "    edges = G.edges(data=True)\n",
    "else:\n",
    "    for e in zip(S, T, K, x):\n",
    "        add_entry(e)\n",
    "    edges = G.edges(data=True, keys=True)\n",
    "for e in edges:\n",
    "    if e[0] != e[1]:\n",
    "        if e[-1].get(capacity, inf) == 0:\n",
    "            add_entry(e[:-1] + (0,))\n",
    "    else:\n",
    "        c = e[-1].get(weight, 0)\n",
    "        if c >= 0:\n",
    "            add_entry(e[:-1] + (0,))\n",
    "        else:\n",
    "            u = e[-1][capacity]\n",
    "            flow_cost += c * u\n",
    "            add_entry(e[:-1] + (u,))\n",
    "\n",
    "return flow_cost, flow_dict"
   ]
  },
  {
   "cell_type": "code",
   "execution_count": null,
   "metadata": {
    "collapsed": true
   },
   "outputs": [],
   "source": []
  }
 ],
 "metadata": {
  "kernelspec": {
   "display_name": "Python 3",
   "language": "python",
   "name": "python3"
  },
  "language_info": {
   "codemirror_mode": {
    "name": "ipython",
    "version": 3
   },
   "file_extension": ".py",
   "mimetype": "text/x-python",
   "name": "python",
   "nbconvert_exporter": "python",
   "pygments_lexer": "ipython3",
   "version": "3.6.3"
  }
 },
 "nbformat": 4,
 "nbformat_minor": 2
}
